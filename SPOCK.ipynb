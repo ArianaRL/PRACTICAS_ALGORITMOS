{
  "nbformat": 4,
  "nbformat_minor": 0,
  "metadata": {
    "colab": {
      "name": "SPOCK.ipynb",
      "provenance": []
    },
    "kernelspec": {
      "name": "python3",
      "display_name": "Python 3"
    },
    "language_info": {
      "name": "python"
    }
  },
  "cells": [
    {
      "cell_type": "code",
      "execution_count": null,
      "metadata": {
        "colab": {
          "base_uri": "https://localhost:8080/"
        },
        "id": "E4yrzG6uMmWp",
        "outputId": "d282477f-93a5-486a-92d9-77b52c4cc4cf"
      },
      "outputs": [
        {
          "output_type": "stream",
          "name": "stdout",
          "text": [
            "Jugador 1 ingresa tu opcion: 5\n",
            "Jugador 2 ingresa tu opcion: 1\n",
            "Gana jugador 1\n"
          ]
        }
      ],
      "source": [
        "#1 piedra\n",
        "#2 papel\n",
        "#3 tijera\n",
        "#4 lagarto\n",
        "#5 spock\n",
        "\n",
        "jug1=int(input('Jugador 1 ingresa tu opcion: ')) \n",
        "jug2=int(input('Jugador 2 ingresa tu opcion: '))\n",
        "if (jug1==3)and(jug2==2):\n",
        "  print('Gana jugador 1')\n",
        "elif((jug1==2)and(jug2==1)):\n",
        "  print('Gana jugador 1')\n",
        "elif((jug1==1)and(jug2==4)):\n",
        "  print('Gana jugador 1')\n",
        "elif((jug1==4)and(jug2==5)):\n",
        "  print('Gana jugador 1')\n",
        "elif((jug1==5)and(jug2==3)):\n",
        "  print('Gana jugador 1')\n",
        "elif((jug1==3)and(jug2==4)):\n",
        "  print('Gana jugador 1')\n",
        "elif((jug1==4)and(jug2==2)):\n",
        "  print('Gana jugador 1')\n",
        "elif((jug1==2)and(jug2==5)):\n",
        "  print('Gana jugador 1')\n",
        "elif((jug1==5)and(jug2==1)):\n",
        "  print('Gana jugador 1')\n",
        "elif((jug1==1)and(jug2==3)):\n",
        "  print('Gana jugador 1')\n",
        "elif((jug==1)and(jug2==2)):\n",
        "  print('Gana jugador 2')\n",
        "elif((jug1==1)and(jug2==3)):\n",
        "  print('Gana jugador 1')\n",
        "elif((jug1==1)and(jug2==1)):\n",
        " print('Empate')\n",
        "elif((jug1==2)and(jug2==3)):\n",
        " print('Gana jugador 2') \n",
        "elif((jug1==2)and(jug2==1)):\n",
        " print('Gana jugador 1')\n",
        "elif((jug1==2)and(jug2==2)):\n",
        " print('Empate')\n",
        "elif((jug1==3)and(jug2==1)):\n",
        " print('Gana jugador 2')\n",
        "elif((jug1==3)and(jug2==2)):\n",
        " print('Gana jugador 1')\n",
        "elif((jug1==2)and(jug2==3)):\n",
        " print('Empate')\n"
      ]
    }
  ]
}