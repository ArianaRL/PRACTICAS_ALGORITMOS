{
  "nbformat": 4,
  "nbformat_minor": 0,
  "metadata": {
    "colab": {
      "name": "prog_sum2num.ipynb",
      "provenance": []
    },
    "kernelspec": {
      "name": "python3",
      "display_name": "Python 3"
    },
    "language_info": {
      "name": "python"
    }
  },
  "cells": [
    {
      "cell_type": "code",
      "execution_count": 1,
      "metadata": {
        "colab": {
          "base_uri": "https://localhost:8080/"
        },
        "id": "rK0dVoPG-MV5",
        "outputId": "7b9d600a-c73c-4a9c-f474-3a52469b6274"
      },
      "outputs": [
        {
          "output_type": "stream",
          "name": "stdout",
          "text": [
            "Ingresa el primer número: 3\n",
            "Ingresa el segundo número: 5\n",
            "El resultado de la suma es:  8\n"
          ]
        }
      ],
      "source": [
        "N1=int(input(\"Ingresa el primer número: \"));\n",
        "N2=int(input(\"Ingresa el segundo número: \"));\n",
        "suma=N1+N2;\n",
        "print (\"El resultado de la suma es: \",suma);"
      ]
    }
  ]
}