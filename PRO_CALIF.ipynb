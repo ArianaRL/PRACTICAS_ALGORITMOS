{
  "nbformat": 4,
  "nbformat_minor": 0,
  "metadata": {
    "colab": {
      "name": "PRO_CALIF.ipynb",
      "provenance": []
    },
    "kernelspec": {
      "name": "python3",
      "display_name": "Python 3"
    },
    "language_info": {
      "name": "python"
    }
  },
  "cells": [
    {
      "cell_type": "code",
      "execution_count": 3,
      "metadata": {
        "colab": {
          "base_uri": "https://localhost:8080/"
        },
        "id": "tvPnDPPJ-ttp",
        "outputId": "a05d7ea2-c6a9-4796-8faf-d03f7a87b5ba"
      },
      "outputs": [
        {
          "output_type": "stream",
          "name": "stdout",
          "text": [
            "Ingresa la calificación a evaluar: 8\n",
            " El alumno a Aprobado\n"
          ]
        }
      ],
      "source": [
        "a=[]\n",
        "calif=float(input(\"Ingresa la calificación a evaluar: \"))\n",
        "if(calif<7):\n",
        "  print(\" El alumno a Reprobado\")\n",
        "else:\n",
        "  print(\" El alumno a Aprobado\")"
      ]
    }
  ]
}