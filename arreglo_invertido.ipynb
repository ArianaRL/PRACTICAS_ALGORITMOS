{
  "nbformat": 4,
  "nbformat_minor": 0,
  "metadata": {
    "colab": {
      "name": "arreglo_invertido.ipynb",
      "provenance": []
    },
    "kernelspec": {
      "name": "python3",
      "display_name": "Python 3"
    },
    "language_info": {
      "name": "python"
    }
  },
  "cells": [
    {
      "cell_type": "code",
      "source": [
        "print(\"HOLA MUNDO, AL REVES :) \")\n",
        "j=8\n",
        "i=3\n",
        "arregloA=[\"H\",\"O\",\"L\",\"A\",\"M\",\"U\",\"N\",\"D\",\"O\"]\n",
        "for i in range (0,5):\n",
        "  variable=arregloA[j]\n",
        "  arregloA[j]=arregloA[i]\n",
        "  arregloA[i]=variable\n",
        "  j=j-1\n",
        "print(arregloA)"
      ],
      "metadata": {
        "colab": {
          "base_uri": "https://localhost:8080/"
        },
        "id": "ejXQXxmiAXPK",
        "outputId": "d517643f-2b15-4f38-b491-90ba635e82b6"
      },
      "execution_count": null,
      "outputs": [
        {
          "output_type": "stream",
          "name": "stdout",
          "text": [
            "HOLA MUNDO, AL REVES :) \n",
            "['O', 'D', 'N', 'U', 'M', 'A', 'L', 'O', 'H']\n"
          ]
        }
      ]
    }
  ]
}