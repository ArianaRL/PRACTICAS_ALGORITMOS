{
  "nbformat": 4,
  "nbformat_minor": 0,
  "metadata": {
    "colab": {
      "name": "examen.ipynb",
      "provenance": []
    },
    "kernelspec": {
      "name": "python3",
      "display_name": "Python 3"
    },
    "language_info": {
      "name": "python"
    }
  },
  "cells": [
    {
      "cell_type": "code",
      "source": [
        "no=[8,10,9,3,5,4,1,2,11,12,13,15,17,14,16,18,20,19,22,21,30,40,50,51,41,42,34,43,56,66,55,101,102,104,103,2002,118,130,192,1644,234] \n",
        "mayor=no[0]\n",
        "menor=no[0] \n",
        "for i in no:\n",
        "   if i > menor:\n",
        "    menor=i\n",
        "    if i < mayor:\n",
        "     mayor=i\n",
        "print(\"El numero menor es: \",menor)\n",
        "print(\"El numero mayor es: \",mayor)"
      ],
      "metadata": {
        "colab": {
          "base_uri": "https://localhost:8080/"
        },
        "id": "WPx5kbvQTWOv",
        "outputId": "3a40dcdd-b885-4536-a7fc-a6596813f6d1"
      },
      "execution_count": 2,
      "outputs": [
        {
          "output_type": "stream",
          "name": "stdout",
          "text": [
            "El numero menor es:  2002\n",
            "El numero mayor es:  8\n"
          ]
        }
      ]
    }
  ]
}