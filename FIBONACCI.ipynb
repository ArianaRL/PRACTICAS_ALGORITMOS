{
  "nbformat": 4,
  "nbformat_minor": 0,
  "metadata": {
    "colab": {
      "name": "FIBONACCI.ipynb",
      "provenance": []
    },
    "kernelspec": {
      "name": "python3",
      "display_name": "Python 3"
    },
    "language_info": {
      "name": "python"
    }
  },
  "cells": [
    {
      "cell_type": "code",
      "execution_count": null,
      "metadata": {
        "colab": {
          "base_uri": "https://localhost:8080/"
        },
        "id": "YtgZG8AH86rV",
        "outputId": "214bb49e-1481-471d-f466-2bb0a144074d"
      },
      "outputs": [
        {
          "output_type": "stream",
          "name": "stdout",
          "text": [
            "Bienvenido a la serie fibonacci, Ingresa el limite de la serie: 8\n",
            "0\n",
            "1\n",
            "1\n",
            "2\n",
            "3\n",
            "5\n",
            "8\n",
            "13\n"
          ]
        }
      ],
      "source": [
        "f0=0\n",
        "f1=1\n",
        "\n",
        "tnum=int(input('Bienvenido a la serie fibonacci, Ingresa el limite de la serie: '))\n",
        "if(tnum==0):\n",
        "  print(f0)\n",
        "elif(tnum==1):\n",
        "  print(f0)\n",
        "  print(f1)\n",
        "\n",
        "elif(tnum>2):\n",
        "  print(f0)\n",
        "  print(f1)\n",
        "  for i in range (tnum-2):\n",
        "    total=f0+f1\n",
        "    f0=f1\n",
        "    f1=total\n",
        "    print(total)"
      ]
    }
  ]
}