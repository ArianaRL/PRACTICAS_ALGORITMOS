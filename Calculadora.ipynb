{
  "nbformat": 4,
  "nbformat_minor": 0,
  "metadata": {
    "colab": {
      "name": "Calculadora.ipynb",
      "provenance": []
    },
    "kernelspec": {
      "name": "python3",
      "display_name": "Python 3"
    },
    "language_info": {
      "name": "python"
    }
  },
  "cells": [
    {
      "cell_type": "code",
      "execution_count": null,
      "metadata": {
        "colab": {
          "base_uri": "https://localhost:8080/"
        },
        "id": "xHc89aaTP3kz",
        "outputId": "12d0df65-449c-4602-baa4-19059dd008fb"
      },
      "outputs": [
        {
          "output_type": "stream",
          "name": "stdout",
          "text": [
            "Bienvenido a la calculadora basica\n",
            "Aqui las operaciones estan asignadas de la siguiente forma:\n",
            " 1= Suma 2= Resta 3= Multiplicaciòn y 4= Divisiòn\n",
            "Ingresa el primer nùmero: 1\n",
            "Ingresa el segundo nùmero: 2\n",
            "¿Que operaciòn desea realizar? 1\n",
            "3\n"
          ]
        }
      ],
      "source": [
        "print(\"Bienvenido a la calculadora basica\")\n",
        "print(\"Aqui las operaciones estan asignadas de la siguiente forma:\")\n",
        "print(\" 1= Suma 2= Resta 3= Multiplicaciòn y 4= Divisiòn\")\n",
        "\n",
        "num1=int(input('Ingresa el primer nùmero: '))\n",
        "num2=int(input('Ingresa el segundo nùmero: '))\n",
        "operacion=int(input('¿Que operaciòn desea realizar? '))\n",
        "#1. Suma\n",
        "#2. Resta\n",
        "#3. Multiplicaciòn\n",
        "#4. Divisiòn\n",
        "\n",
        "if(operacion==1):\n",
        "  Total=num1+num2\n",
        "elif(operacion==2):\n",
        "  Total=num1-num2\n",
        "elif(operacion==3):\n",
        "    Total=num1*num2\n",
        "elif(operacion==4):\n",
        "    Total=num1/num2    \n",
        "print(Total)"
      ]
    }
  ]
}