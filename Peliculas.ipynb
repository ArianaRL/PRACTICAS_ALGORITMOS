{
  "nbformat": 4,
  "nbformat_minor": 0,
  "metadata": {
    "colab": {
      "name": "Peliculas.ipynb",
      "provenance": []
    },
    "kernelspec": {
      "name": "python3",
      "display_name": "Python 3"
    },
    "language_info": {
      "name": "python"
    }
  },
  "cells": [
    {
      "cell_type": "code",
      "execution_count": null,
      "metadata": {
        "id": "iKGrmn1B7Kbs"
      },
      "outputs": [],
      "source": [
        "#Se establece el tamaño del arreglo\n",
        "f=int(input(\"Ingresa el número de filas: \")) #Filas\n",
        "c=int(input(\"Ingresa el número de columnas: \")) #Columnas\n",
        "\n",
        "#Se crea el arreglo\n",
        "Arr=[]\n",
        "\n",
        "#Se crea una variable para establecer si es de Netflix o de Disney + que inicia vacía\n",
        "valor=\"\"\n",
        "\n",
        "#Se inicializa el arreglo, es un proceso necesario para los arreglos bidimensionales\n",
        "for i in range(f):\n",
        "  Arr.append([0]*c)\n",
        "\n",
        "#Inicia el proceso de llenado del arreglo bidimensional\n",
        "for i in range (f):\n",
        "\n",
        "  #Este if es auxiliar solamente para mostrar si la peli es de  Netflix o Disney + \n",
        "  if (i==0):\n",
        "    valor=\"Netflix\"\n",
        "  else:\n",
        "    valor=\"Disney +\"\n",
        "\n",
        "  for j in range (c):\n",
        "    # llena el arreglo bidimensional\n",
        "    Arr[i][j]=input(\"Introduzca la serie \"+str(j+1)+\" de \"+valor+\": \")\n",
        "\n",
        "#Se imprime el arreglo bidimensional\n",
        "print(Arr)"
      ]
    }
  ]
}