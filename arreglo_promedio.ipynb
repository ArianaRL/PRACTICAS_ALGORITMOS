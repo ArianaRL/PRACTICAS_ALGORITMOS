{
  "nbformat": 4,
  "nbformat_minor": 0,
  "metadata": {
    "colab": {
      "name": "arreglo_promedio.ipynb",
      "provenance": []
    },
    "kernelspec": {
      "name": "python3",
      "display_name": "Python 3"
    },
    "language_info": {
      "name": "python"
    }
  },
  "cells": [
    {
      "cell_type": "code",
      "execution_count": null,
      "metadata": {
        "colab": {
          "base_uri": "https://localhost:8080/"
        },
        "id": "zIz3z4IXQ8OD",
        "outputId": "b3c59774-44ba-4c4c-ad6e-cfd37bd712c5"
      },
      "outputs": [
        {
          "output_type": "stream",
          "name": "stdout",
          "text": [
            "Ingresa el número de filas: 3\n",
            "Ingresa el número de columnas: 4\n",
            "Introduzca la informacion de la persona en el caso 1 de Genero: : hombre\n",
            "Introduzca la informacion de la persona en el caso 2 de Genero: : mujer\n",
            "Introduzca la informacion de la persona en el caso 3 de Genero: : hombre\n",
            "Introduzca la informacion de la persona en el caso 4 de Genero: : mujer\n",
            "[[0, 0, 0, 0], [0, 0, 0, 0], ['hombre', 'mujer', 'hombre', 'mujer']]\n"
          ]
        }
      ],
      "source": [
        "m=int(input(\"Ingresa el número de filas: \")) \n",
        "n=int(input(\"Ingresa el número de columnas: \")) \n",
        "\n",
        "a=[]\n",
        "valor=\"\"\n",
        "for i in range(m):\n",
        "  a.append([0]*n)\n",
        "\n",
        "for i in range (m):\n",
        "\n",
        "  if (i==0):\n",
        "      valor=\"No.Control: \"\n",
        "for i in range (m):\n",
        "  if (i==1):\n",
        "      valor=\"Nombre Completo: \"\n",
        "  if (i==2):\n",
        "      valor= \"Genero: \"\n",
        "  else:\n",
        "      valor=\"Calificacion: \"\n",
        "\n",
        "for j in range (n):\n",
        "  a[i][j]=input(\"Introduzca la informacion de la persona en el caso \"+str(j+1)+\" de \"+valor+\": \")\n",
        "  \n",
        "\n",
        "#Se imprime el arreglo\n",
        "print(a)"
      ]
    }
  ]
}