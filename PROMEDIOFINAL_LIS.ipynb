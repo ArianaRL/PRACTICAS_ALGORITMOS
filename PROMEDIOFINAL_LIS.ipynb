{
  "nbformat": 4,
  "nbformat_minor": 0,
  "metadata": {
    "colab": {
      "name": "PROMEDIOFINAL-LIS.ipynb",
      "provenance": []
    },
    "kernelspec": {
      "name": "python3",
      "display_name": "Python 3"
    },
    "language_info": {
      "name": "python"
    }
  },
  "cells": [
    {
      "cell_type": "code",
      "execution_count": 2,
      "metadata": {
        "colab": {
          "base_uri": "https://localhost:8080/"
        },
        "id": "HM5yN5DAF4bR",
        "outputId": "c1fe5d28-0fa5-407b-8659-5148d4f8f978"
      },
      "outputs": [
        {
          "output_type": "stream",
          "name": "stdout",
          "text": [
            "Ingresa el número de filas: 4\n",
            "Introduzca el dato requerido correspondiente a Numero de control: 23\n",
            "Introduzca el dato requerido correspondiente a Nombre del Alumno: jj\n",
            "Introduzca el dato requerido correspondiente a Genero: h\n",
            "Introduzca el dato requerido correspondiente a Calificacion: 10\n",
            "Introduzca el dato requerido correspondiente a Numero de control: 78\n",
            "Introduzca el dato requerido correspondiente a Nombre del Alumno: mimi\n",
            "Introduzca el dato requerido correspondiente a Genero: m\n",
            "Introduzca el dato requerido correspondiente a Calificacion: 7\n",
            "Introduzca el dato requerido correspondiente a Numero de control: 12\n",
            "Introduzca el dato requerido correspondiente a Nombre del Alumno: malex\n",
            "Introduzca el dato requerido correspondiente a Genero: h\n",
            "Introduzca el dato requerido correspondiente a Calificacion: 8\n",
            "Introduzca el dato requerido correspondiente a Numero de control: 46\n",
            "Introduzca el dato requerido correspondiente a Nombre del Alumno: vale\n",
            "Introduzca el dato requerido correspondiente a Genero: m\n",
            "Introduzca el dato requerido correspondiente a Calificacion: 7\n",
            "El promedio de Hombres es:  9.0\n",
            "El promedio de Mujeres es:  7.0\n",
            "[['23', 'jj', 'h', '10'], ['78', 'mimi', 'm', '7'], ['12', 'malex', 'h', '8'], ['46', 'vale', 'm', '7']]\n"
          ]
        }
      ],
      "source": [
        "totalh=0\n",
        "totalm=0\n",
        "calh=0\n",
        "calm=0\n",
        "promh=0\n",
        "promm=0\n",
        "c=4\n",
        "f=int(input(\"Ingresa el número de filas: \"))\n",
        "\n",
        "Arr=[]\n",
        "val=\"\"\n",
        "for i in range(0,f):\n",
        "  Arr.append([0]*c)\n",
        "\n",
        "for i in range(0,f):\n",
        "  for j in range(0,c):\n",
        "    if (j==0):\n",
        "      val=\"Numero de control\"\n",
        "    elif(j==1):\n",
        "      val=\"Nombre del Alumno\"\n",
        "    elif(j==2):\n",
        "      val=\"Genero\"\n",
        "    elif(j==3):\n",
        "      val=\"Calificacion\"\n",
        "    Arr[i][j]=input(\"Introduzca el dato requerido correspondiente a \"+val+ \": \" )\n",
        "\n",
        "for i in range(0,f):\n",
        "\n",
        "\n",
        "  if(Arr[i][2]=='h'):\n",
        "    totalh=totalh+1\n",
        "    calh=calh+int(Arr[i][3])\n",
        "\n",
        "  if(Arr[i][2]=='m'):\n",
        "    totalm=totalm+1\n",
        "    calm=calm+int(Arr[i][3])\n",
        "promh=calh/totalh\n",
        "promm=calm/totalm\n",
        "\n",
        "\n",
        "print(\"El promedio de Hombres es: \",promh)\n",
        "print(\"El promedio de Mujeres es: \",promm)\n",
        "print(Arr)\n",
        "\n"
      ]
    }
  ]
}